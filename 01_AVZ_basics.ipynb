{
  "nbformat": 4,
  "nbformat_minor": 0,
  "metadata": {
    "colab": {
      "provenance": []
    },
    "kernelspec": {
      "name": "python3",
      "display_name": "Python 3"
    },
    "language_info": {
      "name": "python"
    }
  },
  "cells": [
    {
      "cell_type": "code",
      "execution_count": 1,
      "metadata": {
        "colab": {
          "base_uri": "https://localhost:8080/"
        },
        "id": "aMS_tbEIEC_i",
        "outputId": "df14f01b-d04c-401d-fb14-409b1837086c"
      },
      "outputs": [
        {
          "output_type": "execute_result",
          "data": {
            "text/plain": [
              "int"
            ]
          },
          "metadata": {},
          "execution_count": 1
        }
      ],
      "source": [
        "type(1)"
      ]
    },
    {
      "cell_type": "code",
      "source": [
        "type(\"hello world\")"
      ],
      "metadata": {
        "colab": {
          "base_uri": "https://localhost:8080/"
        },
        "id": "yw2zpVE3E0R9",
        "outputId": "08d7421c-1f82-40eb-b0e0-8898daed8c42"
      },
      "execution_count": 2,
      "outputs": [
        {
          "output_type": "execute_result",
          "data": {
            "text/plain": [
              "str"
            ]
          },
          "metadata": {},
          "execution_count": 2
        }
      ]
    },
    {
      "cell_type": "code",
      "source": [
        "type(True)"
      ],
      "metadata": {
        "colab": {
          "base_uri": "https://localhost:8080/"
        },
        "id": "bxY4D4eBE4W9",
        "outputId": "99e7c012-61f7-4e2f-d7b3-38d1554f5b9f"
      },
      "execution_count": 3,
      "outputs": [
        {
          "output_type": "execute_result",
          "data": {
            "text/plain": [
              "bool"
            ]
          },
          "metadata": {},
          "execution_count": 3
        }
      ]
    },
    {
      "cell_type": "code",
      "source": [
        "type(1.0)"
      ],
      "metadata": {
        "colab": {
          "base_uri": "https://localhost:8080/"
        },
        "id": "JsF8fEihE6ER",
        "outputId": "99c10d20-da71-4692-82da-7e5337eeec15"
      },
      "execution_count": 4,
      "outputs": [
        {
          "output_type": "execute_result",
          "data": {
            "text/plain": [
              "float"
            ]
          },
          "metadata": {},
          "execution_count": 4
        }
      ]
    },
    {
      "cell_type": "code",
      "source": [
        "\"hello\""
      ],
      "metadata": {
        "colab": {
          "base_uri": "https://localhost:8080/",
          "height": 37
        },
        "id": "wZEwc2qaE9DP",
        "outputId": "e118114f-73b8-4b58-fa3f-cac5c963c76d"
      },
      "execution_count": 5,
      "outputs": [
        {
          "output_type": "execute_result",
          "data": {
            "text/plain": [
              "'hello'"
            ],
            "application/vnd.google.colaboratory.intrinsic+json": {
              "type": "string"
            }
          },
          "metadata": {},
          "execution_count": 5
        }
      ]
    },
    {
      "cell_type": "code",
      "source": [
        "type(\"hello\")"
      ],
      "metadata": {
        "colab": {
          "base_uri": "https://localhost:8080/"
        },
        "id": "VGeQljsDE_2m",
        "outputId": "b01c1c5c-9531-4dd0-bbff-c7ca2a689adc"
      },
      "execution_count": 6,
      "outputs": [
        {
          "output_type": "execute_result",
          "data": {
            "text/plain": [
              "str"
            ]
          },
          "metadata": {},
          "execution_count": 6
        }
      ]
    },
    {
      "cell_type": "code",
      "source": [
        "a=10"
      ],
      "metadata": {
        "id": "rwURjnUtFEIa"
      },
      "execution_count": 7,
      "outputs": []
    },
    {
      "cell_type": "code",
      "source": [
        "type(a)"
      ],
      "metadata": {
        "colab": {
          "base_uri": "https://localhost:8080/"
        },
        "id": "hfFETZFSFNbF",
        "outputId": "e8c5bbcc-42a9-47a9-b62e-59e213944dba"
      },
      "execution_count": 8,
      "outputs": [
        {
          "output_type": "execute_result",
          "data": {
            "text/plain": [
              "int"
            ]
          },
          "metadata": {},
          "execution_count": 8
        }
      ]
    },
    {
      "cell_type": "code",
      "source": [
        "a=\"ABC\""
      ],
      "metadata": {
        "id": "y9jV1BpCFPgB"
      },
      "execution_count": 9,
      "outputs": []
    },
    {
      "cell_type": "code",
      "source": [
        "type(a)"
      ],
      "metadata": {
        "colab": {
          "base_uri": "https://localhost:8080/"
        },
        "id": "JNOEtVNqFSvk",
        "outputId": "ac9fd889-04d9-428d-a23b-ca93e073e78e"
      },
      "execution_count": 10,
      "outputs": [
        {
          "output_type": "execute_result",
          "data": {
            "text/plain": [
              "str"
            ]
          },
          "metadata": {},
          "execution_count": 10
        }
      ]
    },
    {
      "cell_type": "code",
      "source": [
        "a = 10\n",
        "b = 20"
      ],
      "metadata": {
        "id": "iW_XFmsnFVUH"
      },
      "execution_count": 11,
      "outputs": []
    },
    {
      "cell_type": "code",
      "source": [
        "print(a+b)\n",
        "print(a*b)\n",
        "print(b%a)\n",
        "print((a*b)+(a/b))\n"
      ],
      "metadata": {
        "colab": {
          "base_uri": "https://localhost:8080/"
        },
        "id": "zbrEmu-8FcKt",
        "outputId": "ef4aded8-7667-4ae0-e585-3269f9e1a80d"
      },
      "execution_count": 12,
      "outputs": [
        {
          "output_type": "stream",
          "name": "stdout",
          "text": [
            "30\n",
            "200\n",
            "0\n",
            "200.5\n"
          ]
        }
      ]
    },
    {
      "cell_type": "code",
      "source": [
        "s = \"Ram is\"\n",
        "age = 25\n",
        "city = \"Lonere\"\n",
        "print(s, age, city)\n"
      ],
      "metadata": {
        "colab": {
          "base_uri": "https://localhost:8080/"
        },
        "id": "ZBzv1hq9FmTK",
        "outputId": "c0fe4a7e-7baf-47a1-881a-2a46020769c4"
      },
      "execution_count": 13,
      "outputs": [
        {
          "output_type": "stream",
          "name": "stdout",
          "text": [
            "Ram is 25 Lonere\n"
          ]
        }
      ]
    },
    {
      "cell_type": "code",
      "source": [
        "print('AAC')"
      ],
      "metadata": {
        "colab": {
          "base_uri": "https://localhost:8080/"
        },
        "id": "a1fbdH2NFwWs",
        "outputId": "79fcd758-ab87-44e1-e55d-b70838070427"
      },
      "execution_count": 14,
      "outputs": [
        {
          "output_type": "stream",
          "name": "stdout",
          "text": [
            "AAC\n"
          ]
        }
      ]
    },
    {
      "cell_type": "code",
      "source": [
        "\n",
        "first_name = 'ATUL'\n",
        "last_name = 'ZAWARE'"
      ],
      "metadata": {
        "id": "-YJXRvhaF2ld"
      },
      "execution_count": 15,
      "outputs": []
    },
    {
      "cell_type": "code",
      "source": [
        "print(\"My first name is {} and Last name is {}\".format(first_name,last_name))\n"
      ],
      "metadata": {
        "colab": {
          "base_uri": "https://localhost:8080/"
        },
        "id": "kPnH0KqBGDLY",
        "outputId": "12c85235-2bad-401d-c5c4-e7681f4a97c9"
      },
      "execution_count": 16,
      "outputs": [
        {
          "output_type": "stream",
          "name": "stdout",
          "text": [
            "My first name is ATUL and Last name is ZAWARE\n"
          ]
        }
      ]
    },
    {
      "cell_type": "code",
      "source": [
        "print(\"My last name is {} and first name is {}\".format(last_name,first_name))\n"
      ],
      "metadata": {
        "colab": {
          "base_uri": "https://localhost:8080/"
        },
        "id": "tQhdH8loGFbe",
        "outputId": "3d80c604-5076-4f7f-fcc0-d271822b0d8d"
      },
      "execution_count": 17,
      "outputs": [
        {
          "output_type": "stream",
          "name": "stdout",
          "text": [
            "My last name is ZAWARE and first name is ATUL\n"
          ]
        }
      ]
    },
    {
      "cell_type": "code",
      "source": [
        "print(\"My first name is {first} and Last name is {last}\".format(first=first_name, last = last_name))\n"
      ],
      "metadata": {
        "colab": {
          "base_uri": "https://localhost:8080/"
        },
        "id": "1sXDqUhYGIgG",
        "outputId": "3cd8b5e3-a20e-4b7e-a278-54fd4a48b316"
      },
      "execution_count": 18,
      "outputs": [
        {
          "output_type": "stream",
          "name": "stdout",
          "text": [
            "My first name is ATUL and Last name is ZAWARE\n"
          ]
        }
      ]
    },
    {
      "cell_type": "code",
      "source": [
        "print(\"My first name is {first} and Last name is {last}\".format(last = last_name, first=first_name))\n"
      ],
      "metadata": {
        "colab": {
          "base_uri": "https://localhost:8080/"
        },
        "id": "bRudPJWqGLjK",
        "outputId": "eec515c5-df47-418f-9f16-dde10db19fdf"
      },
      "execution_count": 19,
      "outputs": [
        {
          "output_type": "stream",
          "name": "stdout",
          "text": [
            "My first name is ATUL and Last name is ZAWARE\n"
          ]
        }
      ]
    },
    {
      "cell_type": "code",
      "source": [
        "print(\"Python\", end='@')\n",
        "print(\"programming\")\n"
      ],
      "metadata": {
        "colab": {
          "base_uri": "https://localhost:8080/"
        },
        "id": "jRQxzpotGOcB",
        "outputId": "435f53fc-f63d-4158-85fa-9e884e7925cc"
      },
      "execution_count": 20,
      "outputs": [
        {
          "output_type": "stream",
          "name": "stdout",
          "text": [
            "Python@programming\n"
          ]
        }
      ]
    },
    {
      "cell_type": "code",
      "source": [
        "print('pratik','dbatu.ac.in', sep='@')\n"
      ],
      "metadata": {
        "colab": {
          "base_uri": "https://localhost:8080/"
        },
        "id": "fJ8SBPzhGRwm",
        "outputId": "7172c26f-3c53-4cc7-9983-8ce549d142bc"
      },
      "execution_count": 21,
      "outputs": [
        {
          "output_type": "stream",
          "name": "stdout",
          "text": [
            "pratik@dbatu.ac.in\n"
          ]
        }
      ]
    },
    {
      "cell_type": "code",
      "source": [
        "print('G','F', 'G', sep='')\n"
      ],
      "metadata": {
        "colab": {
          "base_uri": "https://localhost:8080/"
        },
        "id": "NY6lacdPGVoA",
        "outputId": "ebccacda-7a09-448c-c3f0-ff015d1503a7"
      },
      "execution_count": 22,
      "outputs": [
        {
          "output_type": "stream",
          "name": "stdout",
          "text": [
            "GFG\n"
          ]
        }
      ]
    },
    {
      "cell_type": "code",
      "source": [
        "print('09', '02', '2025', sep='-')\n"
      ],
      "metadata": {
        "colab": {
          "base_uri": "https://localhost:8080/"
        },
        "id": "hF77FyT5GYOa",
        "outputId": "dc69acce-472b-43e6-d7ea-ae22cd8e1be1"
      },
      "execution_count": 23,
      "outputs": [
        {
          "output_type": "stream",
          "name": "stdout",
          "text": [
            "09-02-2025\n"
          ]
        }
      ]
    },
    {
      "cell_type": "code",
      "source": [
        "\n",
        "name = 'Atul'\n",
        "age = 18\n",
        "print(f\"Hello, My name is {name} and I'm {age} years old\")"
      ],
      "metadata": {
        "colab": {
          "base_uri": "https://localhost:8080/"
        },
        "id": "x-UyfpS-Gbru",
        "outputId": "d41444cc-9f1c-44e3-b210-b3daf2d1cf2f"
      },
      "execution_count": 26,
      "outputs": [
        {
          "output_type": "stream",
          "name": "stdout",
          "text": [
            "Hello, My name is Atul and I'm 18 years old\n"
          ]
        }
      ]
    },
    {
      "cell_type": "code",
      "source": [
        "\n",
        "# Taking input from user\n",
        "num = int(input(\"Enter a value: \"))\n",
        "add = num + 5\n",
        "\n",
        "#Output\n",
        "print(\"The sum is %d\" %add)"
      ],
      "metadata": {
        "colab": {
          "base_uri": "https://localhost:8080/"
        },
        "id": "d-pFW_GkGjLH",
        "outputId": "daee3acd-6662-4442-ab2e-c09d99e6768a"
      },
      "execution_count": 27,
      "outputs": [
        {
          "output_type": "stream",
          "name": "stdout",
          "text": [
            "Enter a value: 8\n",
            "The sum is 13\n"
          ]
        }
      ]
    },
    {
      "cell_type": "code",
      "source": [
        " #taking two inputs at a time\n",
        "x,y = input(\"Enter two values: \").split()\n",
        "print(\"Number of boys: \", x)\n",
        "print(\"Number of girls: \", y)"
      ],
      "metadata": {
        "colab": {
          "base_uri": "https://localhost:8080/"
        },
        "id": "vB_ayWMUGvcA",
        "outputId": "bde262cf-2bfd-4427-b4fc-8750824c68de"
      },
      "execution_count": 29,
      "outputs": [
        {
          "output_type": "stream",
          "name": "stdout",
          "text": [
            "Enter two values: 5 5\n",
            "Number of boys:  5\n",
            "Number of girls:  5\n"
          ]
        }
      ]
    },
    {
      "cell_type": "code",
      "source": [
        "# taking three inputs at a time\n",
        "x,y,z = input(\"Enter three values: \").split()\n",
        "print(\"Total number of students: \", x)\n",
        "print(\"Number of boys: \", y)\n",
        "print(\"Number of girls: \", z)"
      ],
      "metadata": {
        "colab": {
          "base_uri": "https://localhost:8080/"
        },
        "id": "zOn7IEy0G18r",
        "outputId": "8055ecaa-779d-44c5-d8a2-3aca226f8907"
      },
      "execution_count": 31,
      "outputs": [
        {
          "output_type": "stream",
          "name": "stdout",
          "text": [
            "Enter three values: 14 5 7\n",
            "Total number of students:  14\n",
            "Number of boys:  5\n",
            "Number of girls:  7\n"
          ]
        }
      ]
    },
    {
      "cell_type": "code",
      "source": [
        "# Prompting the user for input\n",
        "age_input = input(\"Enter your age: \")\n",
        "\n",
        "# Converting the input to an integer\n",
        "age = int(age_input)\n",
        "\n",
        "# Checking conditions based on user input\n",
        "if age < 0:\n",
        "    print(\"Please enter a valid age.\")\n",
        "elif age < 18:\n",
        "    print(\"You are a minor.\")\n",
        "elif age >= 18 and age < 65:\n",
        "    print(\"You are an adult.\")\n",
        "else:\n",
        "    print(\"You are a senior citizen.\")\n"
      ],
      "metadata": {
        "colab": {
          "base_uri": "https://localhost:8080/"
        },
        "id": "9isFMqD1G-SV",
        "outputId": "95bffd2b-b9b6-4053-d27e-9349af4e53d5"
      },
      "execution_count": 32,
      "outputs": [
        {
          "output_type": "stream",
          "name": "stdout",
          "text": [
            "Enter your age: 67\n",
            "You are a senior citizen.\n"
          ]
        }
      ]
    },
    {
      "cell_type": "code",
      "source": [],
      "metadata": {
        "id": "_lNZx8ZjHIzd"
      },
      "execution_count": null,
      "outputs": []
    }
  ]
}